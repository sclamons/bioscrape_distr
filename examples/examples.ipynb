{
 "cells": [
  {
   "cell_type": "markdown",
   "metadata": {},
   "source": [
    "# Examples of the BioSCRAPE package\n",
    "## Biocircuit Stochastic Simulation of Single Cell Reactions and Parameter Estimation\n",
    "\n",
    "The purpose of this Python notebook is twofold. \n",
    "\n",
    "1. The first is to serve as a quick start guide where you should be able to get started with the package by simply looking at the examples here and copying them to your liking. \n",
    "\n",
    "2. The second is as a unit testing replacement. It is hard to unit test stochastic algorithms as the output may not (and should not) be the same thing every time. Therefore, instead, if all the examples included below work well, then you can assume that the package installed correctly and is working fine.\n",
    "\n",
    "Before, getting started, we start by doing some basic plotting configuration and importing the numpy library. Advanced users can modify this to their liking."
   ]
  },
  {
   "cell_type": "code",
   "execution_count": null,
   "metadata": {
    "collapsed": true
   },
   "outputs": [],
   "source": [
    "%matplotlib inline\n",
    "import matplotlib.pyplot as plt\n",
    "import matplotlib as mpl\n",
    "\n",
    "#%config InlineBackend.figure_f.ormats=['svg']\n",
    "\n",
    "mpl.rc('axes', prop_cycle=(mpl.cycler('color', ['r', 'k', 'b','g','y','m','c']) ))\n",
    "\n",
    "mpl.rc('xtick', labelsize=12) \n",
    "mpl.rc('ytick', labelsize=12)\n",
    "\n",
    "\n",
    "import numpy as np\n"
   ]
  },
  {
   "cell_type": "markdown",
   "metadata": {},
   "source": [
    "# 1. A Simple Model of Gene Expression\n",
    "\n",
    "We start with a simple model of gene expression that only contains 4 reactions: transcription, translation, mRNA degradation, and protein degradation. The rate of transcription is constant, and the rates of translation, mRNA degradation, and protein degradation are linear in mRNA, protein, and protein respectively. This model is included in models/gene_expression_with_delay.xml, where you can look at it. The model text is included below as well.\n",
    "\n",
    "    <model>\n",
    "    <reaction text=\"--\" after=\"--mRNA\">\n",
    "        <propensity type=\"massaction\" k=\"beta\" species=\"\" />\n",
    "        <delay type=\"fixed\" delay=\"tx_delay\" />\n",
    "    </reaction>\n",
    "\n",
    "    <reaction text=\"mRNA--\" after=\"--\">\n",
    "        <propensity type=\"massaction\" k=\"delta_m\" species=\"mRNA\" />\n",
    "        <delay type=\"none\" />\n",
    "    </reaction>\n",
    "\n",
    "    <reaction text=\"--\" after=\"--protein\">\n",
    "        <propensity type=\"massaction\" k=\"k_tl\" species=\"mRNA\" />\n",
    "        <delay type=\"gamma\" k=\"tx_k\" theta=\"tx_theta\" />\n",
    "    </reaction>\n",
    "\n",
    "    <reaction text=\"protein--\">\n",
    "        <propensity type=\"massaction\" k=\"delta_p\" species=\"protein\" />\n",
    "        <delay type=\"none\" />\n",
    "    </reaction>\n",
    "\n",
    "\n",
    "    <parameter name=\"beta\" value=\"2.0\" />\n",
    "    <parameter name=\"delta_m\" value=\"0.2\" />\n",
    "    <parameter name=\"k_tl\" value=\"5.0\" />\n",
    "    <parameter name=\"delta_p\" value=\"0.05\" />\n",
    "    <parameter name=\"tx_delay\" value=\"10\" />\n",
    "    <parameter name=\"tl_delay\" value=\"10\" />\n",
    "    <parameter name=\"tx_k\" value=\"2\" />\n",
    "    <parameter name=\"tx_theta\" value=\"5\" />\n",
    "\n",
    "    <species name=\"mRNA\" value=\"0\" />\n",
    "    <species name=\"protein\" value=\"0\" />\n",
    "    </model>\n",
    "    \n",
    "From this code, you can see that there are 4 reactions. Each reaction specifies a text field which says what reactants go to what products. The after field specifies the delayed part of the reaction. Each reaction has a propensity and a delay. At the bottom, all the parameter values and initial species values are specified.\n",
    "\n",
    "Simulating this model with a regular DeterministicSimulator or a regular SSASimulator will result in the specified delays being ignored and assumed to be zero. In order for the delay to matter, you must do a simulation with a stochastic delay simulator.\n",
    "\n",
    "Let's start by trying out the model without delay in both the deterministic and stochastic case."
   ]
  },
  {
   "cell_type": "markdown",
   "metadata": {},
   "source": [
    "## 1a. Simple Model of Gene Expression without Delay\n",
    "\n",
    "Below, we load in the simple model of gene expression. We then simulate it determinstically and stochastically. The parameters have been chosen so that the mean mRNA level should be 10 and the mean protein level should be 1000.\n",
    "\n",
    "Thus, the deterministic simulation should quickly go to a steady state of mRNA = 10 and protein = 1000 and the stochastic simulation should bounce around that number."
   ]
  },
  {
   "cell_type": "code",
   "execution_count": null,
   "metadata": {
    "scrolled": true
   },
   "outputs": [],
   "source": [
    "# Code for simple gene expression without delay\n",
    "\n",
    "# Import relevant types\n",
    "from bioscrape.types import Model\n",
    "from bioscrape.simulator import DeterministicSimulator, SSASimulator\n",
    "from bioscrape.simulator import ModelCSimInterface\n",
    "\n",
    "# Load the model by creating a model with the file name containing the model\n",
    "m = Model('models/gene_expression_with_delay.xml')\n",
    "# Expose the model's core characteristics for simulation. (i.e. stoichiometry,\n",
    "# delays, and propensities)\n",
    "s = ModelCSimInterface(m)\n",
    "\n",
    "# Set the initial simulation time\n",
    "s.py_set_initial_time(0)\n",
    "\n",
    "# This function uses sparsity to further optimize the speed of deterministic\n",
    "# simulations. You must call it before doing deterministic simulations.\n",
    "s.py_prep_deterministic_simulation()\n",
    "\n",
    "# Set up our desired timepoints for which to simulate. \n",
    "# Must match with initial time.\n",
    "timepoints = np.linspace(0,1000,1000)\n",
    "\n",
    "# Create a DeterministicSimulator as well as an SSASimulator\n",
    "ssa_simulator = SSASimulator()\n",
    "det_simulator = DeterministicSimulator()\n",
    "\n",
    "# Simulate the model with both simulators for the desired timepoints\n",
    "stoch_result = ssa_simulator.py_simulate(s,timepoints)\n",
    "det_result = det_simulator.py_simulate(s,timepoints)\n",
    "\n",
    "# Process the simulation output.\n",
    "\n",
    "# py_get_result() returns a numpy 2d array of timepoints x species.\n",
    "# Each row is one time point and each column is a species.\n",
    "stoch_sim_output = stoch_result.py_get_result()\n",
    "det_sim_output = det_result.py_get_result()\n",
    "\n",
    "# Get the indices for each species of interest\n",
    "\n",
    "# From the model, we can recover which column corresponds to which species, so\n",
    "# we then know which column of the result array is which species.\n",
    "mrna_ind = m.get_species_index('mRNA')\n",
    "protein_ind = m.get_species_index('protein')\n",
    "\n",
    "# Plot the mRNA levels over time for both deterministic and stochastic simulation\n",
    "\n",
    "plt.plot(timepoints,stoch_sim_output[:,mrna_ind])\n",
    "plt.plot(timepoints,det_sim_output[:,mrna_ind])\n",
    "plt.xlabel('Time')\n",
    "plt.ylabel('mRNA')\n",
    "\n",
    "# Plot the protein levels over time \n",
    "# for both deterministic and stochastic simulation\n",
    "\n",
    "plt.figure()\n",
    "prot_ind = m.get_species_index('protein')\n",
    "plt.plot(timepoints,stoch_sim_output[:,prot_ind])\n",
    "plt.plot(timepoints,det_sim_output[:,prot_ind])\n",
    "plt.xlabel('Time')\n",
    "plt.ylabel('Protein')"
   ]
  },
  {
   "cell_type": "markdown",
   "metadata": {},
   "source": [
    "### Results\n",
    "\n",
    "In the above plots, ideally you see for mRNA a smooth line going to a steady state of 10 with another line from the stochastic simulation bouncing around.\n",
    "\n",
    "For the protein, you should see something similar but with the value being 1000 at steady state."
   ]
  },
  {
   "cell_type": "markdown",
   "metadata": {},
   "source": [
    "## 1b. Simulate Gene Expression Model with Delay\n",
    "\n",
    "We can now try and simulate the model from before that we've already loaded while accounting for delays. This time, we will use a delay SSA simulator. From the model, there are only delays for transcription and translation. The transcription delay was specified as\n",
    "\n",
    "    <delay type=\"fixed\" delay=\"tx_delay\" />\n",
    "    \n",
    "In this term, the delay is of a fixed type meaning it's always a constant, and the length of the delay is given in the parameter tx_delay.\n",
    "\n",
    "The translation delay is specified as\n",
    "\n",
    "    <delay type=\"gamma\" k=\"tx_k\" theta=\"tx_theta\" />\n",
    "\n",
    "In this term, the delay is specified by a gamma distribution, which means the delay time for this reaction to happen is a gamma random variable with parameters $k$ and $\\theta$, where those parameters are specified by tx_k and tx_theta.\n",
    "\n",
    "In addition to specifying the delays, we also need a DelayQueue in order to do delay simulations. The delay queue is a data structure that keeps track of what future reactions have been queued up to occur. Different implementations of the DelayQueue used can have severe tradeoffs in speed and accuracy.\n",
    "\n",
    "    "
   ]
  },
  {
   "cell_type": "code",
   "execution_count": null,
   "metadata": {},
   "outputs": [],
   "source": [
    "# Simulate the simple gene expression model WITH delay.\n",
    "\n",
    "# import a couple of additional types that we need\n",
    "from bioscrape.simulator import ArrayDelayQueue\n",
    "from bioscrape.simulator import DelaySSASimulator\n",
    "\n",
    "# Create a delay queue with setup_queue(num_reactions, num_timepoints, dt)\n",
    "# so this delay queue will go up to 1500 * 0.01 = 15 time units in the future.\n",
    "# You want to pick the delay queue resolution to be small for accuracy, and then\n",
    "# have enough time points to capture the maximum length delay that could possibly\n",
    "# occur.\n",
    "q = ArrayDelayQueue.setup_queue(4,1500,0.01)\n",
    "\n",
    "# Like before when we created an SSA simulator, now we create a DelaySSASimulator\n",
    "delay_simulator = DelaySSASimulator()\n",
    "\n",
    "# Simulate just like before, but now we need to pass the DelayQueue q as an\n",
    "# extra argument. The delayqueue is part of the initial state as well, as any\n",
    "# reactions already on the queue will occur.\n",
    "# In this case, however, the queue is empty to begin with.\n",
    "answer = delay_simulator.py_delay_simulate(s,q,timepoints)\n",
    "\n",
    "# Recover the state trajctory from the simulation.\n",
    "state = answer.py_get_result()\n",
    "\n",
    "# Plot the mRNA\n",
    "plt.plot(timepoints,state[:,mrna_ind])\n",
    "plt.xlim((0,120))\n",
    "plt.xlabel('Time')\n",
    "plt.ylabel('mRNA')\n",
    "\n",
    "# Plot the Protein\n",
    "plt.figure()\n",
    "plt.plot(timepoints,state[:,prot_ind])\n",
    "plt.xlim((0,120))\n",
    "plt.xlabel('Time')\n",
    "plt.ylabel('Protein')"
   ]
  },
  {
   "cell_type": "markdown",
   "metadata": {},
   "source": [
    "### Results\n",
    "\n",
    "In this case, the results should be a delay of 10 before transcription begins and then a final mRNA level of around 10, as well as a delay of about 20 before protein appears with a final protein level of around 1000. The translation delay is gamma distributed, so the protein turns on somewhat smoothly, while the mRNA transcription delay is fixed at 10 minutes, so the mRNA turns on sharply.\n",
    "\n",
    "We can then move on to the next example, which is testing cell lineages and doing simulations with volume.\n"
   ]
  },
  {
   "cell_type": "markdown",
   "metadata": {},
   "source": [
    "## 1c. Simulating Lineages of Cells with Growth and Division\n",
    "\n",
    "Now we can add cell growth and division to the picture. When we simulate cell growth and division, we need to tell the simulator how the cells actually grow and divide. We do this by providing a volume model as well as a partitioning model for cell division. The volume model tells the cell how to grow over time and when to divide. The growth and moment of division can be deterministic or stochastic.\n",
    "\n",
    "The partitioning model tells the simulator how to split up the contents of the cells when the cells divide. For example, molecules with high counts should probably be split up binomially, while the genome should probably be divided equally."
   ]
  },
  {
   "cell_type": "code",
   "execution_count": null,
   "metadata": {},
   "outputs": [],
   "source": [
    "from bioscrape.types import StochasticTimeThresholdVolume\n",
    "from bioscrape.simulator import VolumeSSASimulator, PerfectBinomialVolumeSplitter\n",
    "from bioscrape.simulator import py_simulate_cell_lineage\n",
    "\n",
    "# Reset the state and time to 0 for the model.\n",
    "s.py_set_dt(0.01) # this is the time resolution at which the volume changes.\n",
    "s.py_set_initial_time(0)\n",
    "s.py_set_initial_state(np.array([0.0,0.0])) # the state must be of type double\n",
    "\n",
    "# Specify the volume model to use. In this case, grow without noise and divide\n",
    "# at a mean 33 minute division time, with a division volume of 2.\n",
    "# The 0.05 is noise parameter that says how much noise to put into the division\n",
    "# time.\n",
    "v = StochasticTimeThresholdVolume(33,2,0.05)\n",
    "\n",
    "# We need to initialize the volume with the initial time and volume, which we do\n",
    "# here. The first two arguments are the state and parameter vectors, which don't\n",
    "# matter here, so we pass in a junk argument for those.\n",
    "junk = np.empty(1,)\n",
    "v.py_initialize(junk, junk,0.0,1.0)\n",
    "\n",
    "# Set up timepoints to simulate for.\n",
    "timepoints = np.linspace(0,300,1000)\n",
    "\n",
    "# Create a volume SSA simulator now.\n",
    "vsim = VolumeSSASimulator()\n",
    "\n",
    "# Need to create a splitter that will partition divided cells. This one splits\n",
    "# the volume exactly 50/50 and partitions all species binomially with p = 0.5\n",
    "vsplit = PerfectBinomialVolumeSplitter()\n",
    "\n",
    "# Use the simulate cell lineage function to simulate the lineage.\n",
    "# The arguments are the model s, volume model v, timepoints, volume simulator,\n",
    "# and volume splitter\n",
    "# l is a lineage object\n",
    "l = py_simulate_cell_lineage(s,v,timepoints,vsim,vsplit)\n",
    "\n",
    "# Go through the lineage object l which has l.py_size() entries\n",
    "# Each entry is called a schnitz and each schnitz has a set of timepoints\n",
    "# as well as a simulation trajectory and a volume trajectory. You can plot\n",
    "# the protein concentration over time for each schnitz.\n",
    "plt.figure()\n",
    "for i in range(l.py_size()):\n",
    "    sch = l.py_get_schnitz(i)\n",
    "    plt.plot(sch.py_get_time(), \n",
    "             sch.py_get_data()[:,prot_ind] / sch.py_get_volume())\n",
    "    \n",
    "plt.title('Protein Concentration Over Time (nM)')\n",
    "plt.xlabel('Time (min)')\n",
    "plt.ylabel('Concentration (nm)')\n",
    "\n",
    "\n",
    "# Can plot mRNA as well\n",
    "\n",
    "plt.figure()\n",
    "for i in range(l.py_size()):\n",
    "    sch = l.py_get_schnitz(i)\n",
    "    plt.plot(sch.py_get_time(), \n",
    "             sch.py_get_data()[:,mrna_ind] / sch.py_get_volume())\n",
    "    \n",
    "plt.title('mRNA Concentration Over Time (nM)')\n",
    "plt.xlabel('Time (min)')\n",
    "plt.ylabel('Concentration (nm)')"
   ]
  },
  {
   "cell_type": "markdown",
   "metadata": {},
   "source": [
    "### Results\n",
    "\n",
    "In this case, you should see the expression go up from zero and then as cells grow and divide, there will be many protein trajectories all hanging out between around 600 to 800 nm. For mRNA, the average value should be around 10 nM.\n",
    "\n",
    "Next, we will do some simulations with cell division and delay at the same time."
   ]
  },
  {
   "cell_type": "markdown",
   "metadata": {},
   "source": [
    "## 1d. Gene Expression with Delay and Cell Division\n",
    "\n",
    "Here, we simulate the same model again but incorporate both cell division and delay. This example is similar to 1c."
   ]
  },
  {
   "cell_type": "code",
   "execution_count": null,
   "metadata": {
    "scrolled": false
   },
   "outputs": [],
   "source": [
    "from bioscrape.simulator import PerfectBinomialDelayVolumeSplitter\n",
    "from bioscrape.simulator import DelayVolumeSSASimulator\n",
    "from bioscrape.simulator import py_simulate_delay_cell_lineage\n",
    "\n",
    "m = Model('models/gene_expression_with_delay.xml')\n",
    "# Set the delay to be bigger than 1 cell cycle though.\n",
    "m.set_params({\"tx_delay\": 33.0})\n",
    "\n",
    "final_time = 180.0\n",
    "\n",
    "s = ModelCSimInterface(m)\n",
    "s.py_set_dt(0.01)\n",
    "s.py_set_initial_time(0.0)\n",
    "\n",
    "# Specify a delay queue.\n",
    "q = ArrayDelayQueue.setup_queue(4,10000,0.01)\n",
    "\n",
    "# Specify the volume model to use. In this case, grow without noise and divide\n",
    "# at approximately 33 minutes\n",
    "v = StochasticTimeThresholdVolume(33,2,0.05)\n",
    "junk = np.zeros(10,)\n",
    "v.py_initialize(junk, junk, 0.0, 1.0)\n",
    "\n",
    "dvsplit = PerfectBinomialDelayVolumeSplitter()\n",
    "dvsim = DelayVolumeSSASimulator()\n",
    "\n",
    "timepoints = np.linspace(0,final_time,final_time)\n",
    "\n",
    "l = py_simulate_delay_cell_lineage(s,q,v,timepoints,dvsim,dvsplit)\n",
    "\n",
    "\n",
    "fig = plt.figure(0)\n",
    "ax1 = fig.add_subplot(211)\n",
    "ax2 = fig.add_subplot(212)\n",
    "\n",
    "for i in range(l.py_size()):\n",
    "    sch = l.py_get_schnitz(i)\n",
    "    ax1.plot(sch.py_get_time(), sch.py_get_data()[:,mrna_ind] / sch.py_get_volume())\n",
    "    ax2.plot(sch.py_get_time(), sch.py_get_data()[:,prot_ind] / sch.py_get_volume())\n",
    "\n",
    "\n",
    "ax1.set_xlabel('Time')\n",
    "ax1.set_ylabel('mRNA Concentration')\n",
    "ax2.set_xlabel('Time')\n",
    "ax2.set_ylabel('Protein Concentration')"
   ]
  },
  {
   "cell_type": "markdown",
   "metadata": {
    "collapsed": true
   },
   "source": [
    "### Results\n",
    "\n",
    "For this example, the mRNA average should be around 5 after coming on around 30 minutes, and the protein level should come on around 40 minutes and then end up around 300.\n",
    "\n",
    "The reason the steady state mRNA and protein levels are lower than in the lineage simulation with no delay is that when there is delay in production, the amount of mRNA/protein appearing at a given time is actually proportional to the number of cells that existed a long time ago, which will be only a fraction of the number of cells there are currently. This makes the effective instantaneous arrival rate of new mRNA's and proteins smaller per cell, which leads to a lower steady state."
   ]
  },
  {
   "cell_type": "markdown",
   "metadata": {},
   "source": [
    "# SBML Compatibility\n",
    "\n",
    "The next cell imports a model from an SBML file and then simulates it using a deterministic simulation. There are limitations to SBML compatibility.\n",
    "\n",
    "1. Cannot support delays or events when reading in SBML files. Events will be ignored and a warning will be printed out.\n",
    "2. SBML reaction rates must be in a format such that when the reaction rates are converted to a string formula, sympy must be able to parse the formula. This will work fine for usual PEMDAS rates. This will fail for complex function definitions and things like that.\n",
    "3. Species will be initialized to their initialAmount field when it is nonzero. If the initialAmount is zero, then the initialConcentration will be used instead.\n",
    "4. Multiple compartments or anything related to having compartments will not be supported. No warnings will be provided for this.\n",
    "5. Assignment rules are supported, but any other type of rule will be ignored and an associated warning will be printed out.\n",
    "6. Parameter names must start with a letter and be alphanumeric, same for species names. Furthermore, log, exp, abs, heaviside, and other associated keywords for functions are not allowed to be variable names. When in doubt, just pick something else :)\n",
    "\n",
    "Below, we first plot out the simulation results for an SBML model where a species X0 goes to a final species X1 through an enymatic process."
   ]
  },
  {
   "cell_type": "code",
   "execution_count": null,
   "metadata": {},
   "outputs": [],
   "source": [
    "import bioscrape\n",
    "m = bioscrape.types.read_model_from_sbml('models/sbml_test.xml')\n",
    "s = bioscrape.simulator.ModelCSimInterface(m)\n",
    "s.py_prep_deterministic_simulation()\n",
    "s.py_set_initial_time(0)\n",
    "\n",
    "sim = bioscrape.simulator.DeterministicSimulator()\n",
    "timepoints = np.linspace(0,100,1000)\n",
    "result = sim.py_simulate(s,timepoints)\n",
    "plt.plot(timepoints,result.py_get_result())\n",
    "\n",
    "plt.legend(m.get_species_list())"
   ]
  },
  {
   "cell_type": "markdown",
   "metadata": {
    "collapsed": true
   },
   "source": [
    "## Deterministic and Stochastic Simulation of the Repressilator\n",
    "\n",
    "We  plot out the repressilator model found <a href=\"http://www.ebi.ac.uk/biomodels-main/BIOMD0000000012\">here</a>. This model generates oscillations as expected. Highlighting the utility of this package, we then with a single line of code switch to a stochastic simulation and note that the amplitudes of each burst become noisy."
   ]
  },
  {
   "cell_type": "code",
   "execution_count": null,
   "metadata": {},
   "outputs": [],
   "source": [
    "# Repressilator deterministic example\n",
    "plt.figure()\n",
    "m = bioscrape.types.read_model_from_sbml('models/repressilator_sbml.xml')\n",
    "s = bioscrape.simulator.ModelCSimInterface(m)\n",
    "s.py_prep_deterministic_simulation()\n",
    "s.py_set_initial_time(0)\n",
    "\n",
    "sim = bioscrape.simulator.DeterministicSimulator()\n",
    "timepoints = np.linspace(0,1000,10000)\n",
    "result = sim.py_simulate(s,timepoints)\n",
    "\n",
    "plt.plot(timepoints,result.py_get_result())\n",
    "plt.legend(m.get_species_list())\n",
    "plt.title('Repressilator Model')\n",
    "plt.xlabel('Time')\n",
    "plt.ylabel('Amount')"
   ]
  },
  {
   "cell_type": "markdown",
   "metadata": {},
   "source": [
    "The plot above should show deterministic oscillations. If we want to switch to stochastic simulation, all we need to do is switch the type of simulator we are using to the stochastic simulator. This can be done with the single following line."
   ]
  },
  {
   "cell_type": "code",
   "execution_count": null,
   "metadata": {
    "collapsed": true
   },
   "outputs": [],
   "source": [
    "sim = bioscrape.simulator.SSASimulator()"
   ]
  },
  {
   "cell_type": "markdown",
   "metadata": {},
   "source": [
    "Now, we can run exactly the same code as above to generate a stochastic simulation trace."
   ]
  },
  {
   "cell_type": "code",
   "execution_count": null,
   "metadata": {},
   "outputs": [],
   "source": [
    "s.py_set_initial_time(0)\n",
    "timepoints = np.linspace(0,1000,10000)\n",
    "result = sim.py_simulate(s,timepoints)\n",
    "\n",
    "plt.plot(timepoints,result.py_get_result())\n",
    "plt.legend(m.get_species_list())\n",
    "plt.title('Repressilator Model')\n",
    "plt.xlabel('Time')\n",
    "plt.ylabel('Amount')\n"
   ]
  },
  {
   "cell_type": "markdown",
   "metadata": {},
   "source": [
    "Note that now the oscillations are non regular and stochastic."
   ]
  },
  {
   "cell_type": "code",
   "execution_count": null,
   "metadata": {
    "collapsed": true
   },
   "outputs": [],
   "source": []
  }
 ],
 "metadata": {
  "anaconda-cloud": {},
  "kernelspec": {
   "display_name": "Python [conda root]",
   "language": "python",
   "name": "conda-root-py"
  },
  "language_info": {
   "codemirror_mode": {
    "name": "ipython",
    "version": 3
   },
   "file_extension": ".py",
   "mimetype": "text/x-python",
   "name": "python",
   "nbconvert_exporter": "python",
   "pygments_lexer": "ipython3",
   "version": "3.5.3"
  }
 },
 "nbformat": 4,
 "nbformat_minor": 1
}
